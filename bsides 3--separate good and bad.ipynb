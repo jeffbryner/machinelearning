{
 "metadata": {
  "name": "",
  "signature": "sha256:80a512cd47e5a884173220757f82ef1d7b0627805b2525a27b12e231b1a0a998"
 },
 "nbformat": 3,
 "nbformat_minor": 0,
 "worksheets": [
  {
   "cells": [
    {
     "cell_type": "code",
     "collapsed": false,
     "input": [
      "import os\n",
      "import sys\n",
      "import re\n",
      "''' ideally you get a set of good hits from QA when they release a site to production\n",
      "    Most things aren't ideal, so here's a way to simply separate likely good from likely bad\n",
      "    based on http status return codes\n",
      "'''\n",
      "\n",
      "inputfile=sys.argv[1]\n",
      "goodfile=open('{0}.good'.format(inputfile),'wb')\n",
      "badfile=open('{0}.bad'.format(inputfile),'wb')\n",
      "\n",
      "\n",
      "apachequotedfieldsre=re.compile(r'''\"(.*?)\"''')     #get fields delimited by \"\"\n",
      "apachestatusre=re.compile(r''' ([0-9]{3}) ''')      #get 3 digit http status field\n",
      "\n",
      "for line in open(inputfile).readlines():\n",
      "    if len(apachestatusre.findall(line))>0:\n",
      "        if int(apachestatusre.findall(line)[0])<400:\n",
      "            goodfile.write('{0}\\n'.format(apachequotedfieldsre.findall(line)[0].replace('GET ',''))) #url only.\n",
      "            #goodfile.write('{0} {1}\\n'.format( int(apachestatusre.findall(line)[0]), ' '.join(apachequotedfieldsre.findall(line)[0:1])))\n",
      "        else:\n",
      "            #write status, verb, url\n",
      "            badfile.write('{0} {1}\\n'.format( int(apachestatusre.findall(line)[0]), ' '.join(apachequotedfieldsre.findall(line)[0:1])))\n",
      "\n",
      "goodfile.close()\n",
      "badfile.close()"
     ],
     "language": "python",
     "metadata": {},
     "outputs": []
    }
   ],
   "metadata": {}
  }
 ]
}