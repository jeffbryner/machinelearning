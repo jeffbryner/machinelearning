{
 "metadata": {
  "name": "",
  "signature": "sha256:b26a766cea77d9c8d2e60e519834bbc4905f6c4a1fb1abba8e9840aa853adbd7"
 },
 "nbformat": 3,
 "nbformat_minor": 0,
 "worksheets": [
  {
   "cells": [
    {
     "cell_type": "code",
     "collapsed": false,
     "input": [
      "import sys\n",
      "sys.path.reverse()\n",
      "from gensim import corpora, models, similarities"
     ],
     "language": "python",
     "metadata": {},
     "outputs": []
    },
    {
     "cell_type": "code",
     "collapsed": false,
     "input": [
      "#universal stop list and word delimiters\n",
      "stoplist=set('- get head post 302 200 404 403'.split()) \n",
      "import re\n",
      "delimiters=\"/\", r'\\\\', r'\\\\',\" \",\"&\",\"?\"\n",
      "regexPattern = '|'.join(map(re.escape, delimiters))\n",
      "regexPattern"
     ],
     "language": "python",
     "metadata": {},
     "outputs": []
    },
    {
     "cell_type": "code",
     "collapsed": false,
     "input": [
      "#learn words\n",
      "dictionary = corpora.Dictionary(\n",
      "    re.split(regexPattern,line.decode('ascii','ignore').lower() ) \n",
      "    for line in open('www.mozilla.org.access_2013-12-31-13.good').readlines()\n",
      ")"
     ],
     "language": "python",
     "metadata": {},
     "outputs": []
    },
    {
     "cell_type": "code",
     "collapsed": true,
     "input": [
      "dictionary.token2id"
     ],
     "language": "python",
     "metadata": {},
     "outputs": []
    },
    {
     "cell_type": "code",
     "collapsed": false,
     "input": [
      "len(dictionary)"
     ],
     "language": "python",
     "metadata": {},
     "outputs": []
    },
    {
     "cell_type": "code",
     "collapsed": false,
     "input": [
      "#learn some bad words from https://code.google.com/p/fuzzdb/source/browse/trunk/attack-payloads/all-attacks/all-attacks-unix.txt\n",
      "dictionary.add_documents(re.split(regexPattern,line.lower()) for line in open('all-attacks-unix.txt').readlines())"
     ],
     "language": "python",
     "metadata": {},
     "outputs": []
    },
    {
     "cell_type": "code",
     "collapsed": false,
     "input": [
      "dictionary.token2id"
     ],
     "language": "python",
     "metadata": {},
     "outputs": []
    },
    {
     "cell_type": "code",
     "collapsed": false,
     "input": [
      "len(dictionary)\n",
      "#save if you want with: dictionary.save('xldictionary.dic')"
     ],
     "language": "python",
     "metadata": {},
     "outputs": []
    },
    {
     "cell_type": "code",
     "collapsed": false,
     "input": [
      "#make a corpus of good words only\n",
      "corpusGood=[dictionary.doc2bow([word for word in re.split(regexPattern,line.decode('ascii','ignore').lower()) if word not in stoplist]) for line in open('www.mozilla.org.access_2013-12-31-13.good').readlines()[0:20000]]"
     ],
     "language": "python",
     "metadata": {},
     "outputs": []
    },
    {
     "cell_type": "code",
     "collapsed": false,
     "input": [
      "len(corpusGood)"
     ],
     "language": "python",
     "metadata": {},
     "outputs": []
    },
    {
     "cell_type": "code",
     "collapsed": true,
     "input": [
      "#latent semantic index model http://en.wikipedia.org/wiki/Latent_semantic_indexing\n",
      "lsiGood = models.LsiModel(corpusGood, id2word=dictionary,num_topics=200)\n",
      "lsiGood.print_topics(1000)[0]"
     ],
     "language": "python",
     "metadata": {},
     "outputs": []
    },
    {
     "cell_type": "code",
     "collapsed": false,
     "input": [
      "agoodhit=r'''/thunderbird/js/jquery/jquery-1.5.1.min.js'''"
     ],
     "language": "python",
     "metadata": {},
     "outputs": []
    },
    {
     "cell_type": "code",
     "collapsed": false,
     "input": [
      "vecGood = dictionary.doc2bow([word for word in re.split(regexPattern,agoodhit.lower())])\n",
      "veclsiGood = lsiGood[vecGood] # convert the query to LSI space"
     ],
     "language": "python",
     "metadata": {},
     "outputs": []
    },
    {
     "cell_type": "code",
     "collapsed": false,
     "input": [
      "len(veclsiGood)"
     ],
     "language": "python",
     "metadata": {},
     "outputs": []
    },
    {
     "cell_type": "code",
     "collapsed": false,
     "input": [
      "from operator import itemgetter\n",
      "sorted(veclsiGood, key=itemgetter(1),reverse=True)"
     ],
     "language": "python",
     "metadata": {},
     "outputs": []
    },
    {
     "cell_type": "code",
     "collapsed": false,
     "input": [
      "lsiGood.print_topics(1000)[4]"
     ],
     "language": "python",
     "metadata": {},
     "outputs": []
    },
    {
     "cell_type": "code",
     "collapsed": false,
     "input": [
      "badstoplist=set('- get foo or 1.0 1.1 302 200 404 403'.split()) \n",
      "#create a bad corpus\n",
      "corpusBad=[dictionary.doc2bow([word for word in re.split(regexPattern,line.decode('ascii','ignore').lower()) if word not in badstoplist])  for line in open('web-attacks-unix.txt').readlines()]"
     ],
     "language": "python",
     "metadata": {},
     "outputs": []
    },
    {
     "cell_type": "code",
     "collapsed": false,
     "input": [
      "lsiBad = models.LsiModel(corpusBad,id2word=dictionary,num_topics=1000)\n",
      "#lsiBad.print_topics(10)"
     ],
     "language": "python",
     "metadata": {},
     "outputs": []
    },
    {
     "cell_type": "code",
     "collapsed": false,
     "input": [
      "abadhit=r'''GET ../../../../../../../../../../../../etc/passwd'''\n",
      "#[word for word in re.split(regexPattern,abadhit.lower())]\n"
     ],
     "language": "python",
     "metadata": {},
     "outputs": []
    },
    {
     "cell_type": "code",
     "collapsed": false,
     "input": [
      "vecBad = dictionary.doc2bow([word for word in re.split(regexPattern,abadhit.lower()) if word not in badstoplist])\n",
      "veclsiBad = lsiBad[vecBad]\n",
      "sorted(veclsiBad, key=itemgetter(1),reverse=True)"
     ],
     "language": "python",
     "metadata": {},
     "outputs": []
    },
    {
     "cell_type": "code",
     "collapsed": false,
     "input": [
      "lsiBad.print_topics(1000)[0]"
     ],
     "language": "python",
     "metadata": {},
     "outputs": []
    },
    {
     "cell_type": "code",
     "collapsed": false,
     "input": [
      "#if you didn't know..is the hit good or bad?\n",
      "ahit=r'''GET http/1.1 ../../../../../../../../../../../../etc/passwd'''\n",
      "vecHit = dictionary.doc2bow([word for word in re.split(regexPattern,ahit.lower()) if word not in badstoplist])\n",
      "veclsiBad = lsiBad[vecHit]\n",
      "veclsiGood = lsiGood[vecHit]\n",
      "#compare matches.\n",
      "badMatches=sorted(veclsiBad, key=itemgetter(1),reverse=True)\n",
      "goodMatches=sorted(veclsiGood, key=itemgetter(1),reverse=True)"
     ],
     "language": "python",
     "metadata": {},
     "outputs": []
    },
    {
     "cell_type": "code",
     "collapsed": false,
     "input": [
      "print(len(goodMatches))\n",
      "print(len(badMatches))"
     ],
     "language": "python",
     "metadata": {},
     "outputs": []
    },
    {
     "cell_type": "code",
     "collapsed": false,
     "input": [
      "print(badMatches[0],goodMatches[0])"
     ],
     "language": "python",
     "metadata": {},
     "outputs": []
    },
    {
     "cell_type": "code",
     "collapsed": false,
     "input": [
      "print(lsiBad.print_topics(1000)[0])\n",
      "print(lsiGood.print_topics(1000)[0])"
     ],
     "language": "python",
     "metadata": {},
     "outputs": []
    },
    {
     "cell_type": "code",
     "collapsed": false,
     "input": [],
     "language": "python",
     "metadata": {},
     "outputs": []
    }
   ],
   "metadata": {}
  }
 ]
}