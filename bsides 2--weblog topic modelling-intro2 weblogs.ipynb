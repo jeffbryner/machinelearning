{
 "metadata": {
  "name": "",
  "signature": "sha256:23d24fe27a5750befb0a13ae281e776d0e0b394aa75fc18e3aabfcedef3f02f7"
 },
 "nbformat": 3,
 "nbformat_minor": 0,
 "worksheets": [
  {
   "cells": [
    {
     "cell_type": "code",
     "collapsed": false,
     "input": [
      "import sys\n",
      "sys.path.reverse()\n",
      "from gensim import corpora, models, similarities"
     ],
     "language": "python",
     "metadata": {},
     "outputs": [],
     "prompt_number": 2
    },
    {
     "cell_type": "code",
     "collapsed": false,
     "input": [
      "documents=open('www.mozilla.org.access.sample.log').readlines()[0:4]"
     ],
     "language": "python",
     "metadata": {},
     "outputs": [],
     "prompt_number": 3
    },
    {
     "cell_type": "code",
     "collapsed": false,
     "input": [
      "documents[3]"
     ],
     "language": "python",
     "metadata": {},
     "outputs": [
      {
       "metadata": {},
       "output_type": "pyout",
       "prompt_number": 4,
       "text": [
        "'177.12.141.252 www.mozilla.org - [31/Dec/2013:13:00:13 -0800] \"GET /pt-BR/firefox/18.0.2/firstrun/ HTTP/1.1\" 200 4005 \"-\" \"Mozilla/5.0 (Windows NT 5.1; rv:18.0) Gecko/20100101 Firefox/18.0\" \"-\"\\n'"
       ]
      }
     ],
     "prompt_number": 4
    },
    {
     "cell_type": "code",
     "collapsed": false,
     "input": [
      "stoplist = set('- \" / \"-\"'.split())\n",
      "tokens = [[word for word in document.lower().split() if word not in stoplist]\n",
      "          for document in documents]"
     ],
     "language": "python",
     "metadata": {},
     "outputs": [],
     "prompt_number": 7
    },
    {
     "cell_type": "code",
     "collapsed": false,
     "input": [
      "tokens"
     ],
     "language": "python",
     "metadata": {},
     "outputs": [
      {
       "metadata": {},
       "output_type": "pyout",
       "prompt_number": 8,
       "text": [
        "[['91.205.131.2', '[31/dec/2013:13:00:13', '-0800]', '0'],\n",
        " ['41.102.162.229',\n",
        "  'www.mozilla.org',\n",
        "  '[31/dec/2013:13:00:13',\n",
        "  '-0800]',\n",
        "  '\"get',\n",
        "  'http/1.1\"',\n",
        "  '301',\n",
        "  '584',\n",
        "  '\"mozilla/5.0',\n",
        "  '(compatible;',\n",
        "  'msie',\n",
        "  '10.0;',\n",
        "  'windows',\n",
        "  'nt',\n",
        "  '6.1;',\n",
        "  'wow64;',\n",
        "  'trident/6.0)\"'],\n",
        " ['41.102.162.229',\n",
        "  'www.mozilla.org',\n",
        "  '[31/dec/2013:13:00:13',\n",
        "  '-0800]',\n",
        "  '\"get',\n",
        "  '/en-us/',\n",
        "  'http/1.1\"',\n",
        "  '200',\n",
        "  '11887',\n",
        "  '\"mozilla/5.0',\n",
        "  '(compatible;',\n",
        "  'msie',\n",
        "  '10.0;',\n",
        "  'windows',\n",
        "  'nt',\n",
        "  '6.1;',\n",
        "  'wow64;',\n",
        "  'trident/6.0)\"'],\n",
        " ['177.12.141.252',\n",
        "  'www.mozilla.org',\n",
        "  '[31/dec/2013:13:00:13',\n",
        "  '-0800]',\n",
        "  '\"get',\n",
        "  '/pt-br/firefox/18.0.2/firstrun/',\n",
        "  'http/1.1\"',\n",
        "  '200',\n",
        "  '4005',\n",
        "  '\"mozilla/5.0',\n",
        "  '(windows',\n",
        "  'nt',\n",
        "  '5.1;',\n",
        "  'rv:18.0)',\n",
        "  'gecko/20100101',\n",
        "  'firefox/18.0\"']]"
       ]
      }
     ],
     "prompt_number": 8
    },
    {
     "cell_type": "code",
     "collapsed": false,
     "input": [],
     "language": "python",
     "metadata": {},
     "outputs": []
    }
   ],
   "metadata": {}
  }
 ]
}