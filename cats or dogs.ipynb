{
 "metadata": {
  "name": "",
  "signature": "sha256:979baa7c7ebb590cf62c620604997e74894cca26e1a7965a3451c0cb6f0b318f"
 },
 "nbformat": 3,
 "nbformat_minor": 0,
 "worksheets": [
  {
   "cells": [
    {
     "cell_type": "code",
     "collapsed": false,
     "input": [
      "import sys\n",
      "sys.path.reverse()\n",
      "from gensim import corpora, models, similarities"
     ],
     "language": "python",
     "metadata": {},
     "outputs": [],
     "prompt_number": 38
    },
    {
     "cell_type": "code",
     "collapsed": false,
     "input": [
      "open('dogs.txt').readlines()"
     ],
     "language": "python",
     "metadata": {},
     "outputs": [
      {
       "metadata": {},
       "output_type": "pyout",
       "prompt_number": 51,
       "text": [
        "['I may not be perfect by my dog loves me\\n',\n",
        " 'If there are no dogs in heaven then when I die I want to go where they go\\n',\n",
        " 'Keep calm and walk the dog\\n',\n",
        " 'bark less, wag more\\n',\n",
        " 'Happiness is a warm puppy\\n',\n",
        " 'The average dog is a nicer person than the average person\\n']"
       ]
      }
     ],
     "prompt_number": 51
    },
    {
     "cell_type": "code",
     "collapsed": false,
     "input": [
      "#learn words\n",
      "dictionary = corpora.Dictionary(line.decode('ascii','ignore').lower().split() for line in open('cats.txt').readlines())"
     ],
     "language": "python",
     "metadata": {},
     "outputs": [],
     "prompt_number": 39
    },
    {
     "cell_type": "code",
     "collapsed": true,
     "input": [
      "dictionary.token2id"
     ],
     "language": "python",
     "metadata": {},
     "outputs": [
      {
       "metadata": {},
       "output_type": "pyout",
       "prompt_number": 40,
       "text": [
        "{'-': 23,\n",
        " 'a': 0,\n",
        " 'actress': 40,\n",
        " 'an': 24,\n",
        " 'are': 1,\n",
        " 'as': 25,\n",
        " 'be': 26,\n",
        " 'better,': 27,\n",
        " 'can': 47,\n",
        " 'cat': 14,\n",
        " 'cats': 2,\n",
        " 'cause': 48,\n",
        " 'equal': 28,\n",
        " 'even': 29,\n",
        " 'everything': 3,\n",
        " 'exact': 49,\n",
        " 'get': 30,\n",
        " 'good': 41,\n",
        " 'has': 4,\n",
        " 'in': 5,\n",
        " 'inconvenience': 50,\n",
        " 'insane,': 42,\n",
        " 'intended': 6,\n",
        " 'is': 18,\n",
        " 'it': 31,\n",
        " 'itself': 32,\n",
        " 'just': 43,\n",
        " 'knows': 33,\n",
        " 'mathematically': 51,\n",
        " 'most': 52,\n",
        " 'my': 44,\n",
        " 'nature': 7,\n",
        " 'never': 15,\n",
        " 'not': 8,\n",
        " 'on': 34,\n",
        " 'or': 35,\n",
        " 'out': 53,\n",
        " 'outstubborn': 16,\n",
        " 'place': 54,\n",
        " 'purpose': 9,\n",
        " 'really': 45,\n",
        " \"she's\": 46,\n",
        " 'sit': 55,\n",
        " 'spent': 19,\n",
        " 'superior': 36,\n",
        " 'teach': 10,\n",
        " 'that': 11,\n",
        " 'the': 37,\n",
        " 'time': 20,\n",
        " 'to': 12,\n",
        " 'treat': 38,\n",
        " 'try': 17,\n",
        " 'us': 13,\n",
        " 'wasted': 21,\n",
        " 'way': 39,\n",
        " 'will': 56,\n",
        " 'with': 22,\n",
        " 'work': 57}"
       ]
      }
     ],
     "prompt_number": 40
    },
    {
     "cell_type": "code",
     "collapsed": false,
     "input": [
      "len(dictionary)"
     ],
     "language": "python",
     "metadata": {},
     "outputs": [
      {
       "metadata": {},
       "output_type": "pyout",
       "prompt_number": 42,
       "text": [
        "58"
       ]
      }
     ],
     "prompt_number": 42
    },
    {
     "cell_type": "code",
     "collapsed": false,
     "input": [
      "#learn some more words \n",
      "dictionary.add_documents(line.lower().split() for line in open('dogs.txt').readlines())"
     ],
     "language": "python",
     "metadata": {},
     "outputs": [],
     "prompt_number": 43
    },
    {
     "cell_type": "code",
     "collapsed": false,
     "input": [
      "dictionary.token2id"
     ],
     "language": "python",
     "metadata": {},
     "outputs": [
      {
       "metadata": {},
       "output_type": "pyout",
       "prompt_number": 44,
       "text": [
        "{'-': 23,\n",
        " 'a': 0,\n",
        " 'actress': 40,\n",
        " 'an': 24,\n",
        " 'and': 77,\n",
        " 'are': 1,\n",
        " 'as': 25,\n",
        " 'average': 88,\n",
        " 'bark': 81,\n",
        " 'be': 26,\n",
        " 'better,': 27,\n",
        " 'by': 58,\n",
        " 'calm': 78,\n",
        " 'can': 47,\n",
        " 'cat': 14,\n",
        " 'cats': 2,\n",
        " 'cause': 48,\n",
        " 'die': 65,\n",
        " 'dog': 59,\n",
        " 'dogs': 66,\n",
        " 'equal': 28,\n",
        " 'even': 29,\n",
        " 'everything': 3,\n",
        " 'exact': 49,\n",
        " 'get': 30,\n",
        " 'go': 67,\n",
        " 'good': 41,\n",
        " 'happiness': 85,\n",
        " 'has': 4,\n",
        " 'heaven': 68,\n",
        " 'i': 60,\n",
        " 'if': 69,\n",
        " 'in': 5,\n",
        " 'inconvenience': 50,\n",
        " 'insane,': 42,\n",
        " 'intended': 6,\n",
        " 'is': 18,\n",
        " 'it': 31,\n",
        " 'itself': 32,\n",
        " 'just': 43,\n",
        " 'keep': 79,\n",
        " 'knows': 33,\n",
        " 'less,': 82,\n",
        " 'loves': 61,\n",
        " 'mathematically': 51,\n",
        " 'may': 62,\n",
        " 'me': 63,\n",
        " 'more': 83,\n",
        " 'most': 52,\n",
        " 'my': 44,\n",
        " 'nature': 7,\n",
        " 'never': 15,\n",
        " 'nicer': 89,\n",
        " 'no': 70,\n",
        " 'not': 8,\n",
        " 'on': 34,\n",
        " 'or': 35,\n",
        " 'out': 53,\n",
        " 'outstubborn': 16,\n",
        " 'perfect': 64,\n",
        " 'person': 90,\n",
        " 'place': 54,\n",
        " 'puppy': 86,\n",
        " 'purpose': 9,\n",
        " 'really': 45,\n",
        " \"she's\": 46,\n",
        " 'sit': 55,\n",
        " 'spent': 19,\n",
        " 'superior': 36,\n",
        " 'teach': 10,\n",
        " 'than': 91,\n",
        " 'that': 11,\n",
        " 'the': 37,\n",
        " 'then': 71,\n",
        " 'there': 72,\n",
        " 'they': 73,\n",
        " 'time': 20,\n",
        " 'to': 12,\n",
        " 'treat': 38,\n",
        " 'try': 17,\n",
        " 'us': 13,\n",
        " 'wag': 84,\n",
        " 'walk': 80,\n",
        " 'want': 74,\n",
        " 'warm': 87,\n",
        " 'wasted': 21,\n",
        " 'way': 39,\n",
        " 'when': 75,\n",
        " 'where': 76,\n",
        " 'will': 56,\n",
        " 'with': 22,\n",
        " 'work': 57}"
       ]
      }
     ],
     "prompt_number": 44
    },
    {
     "cell_type": "code",
     "collapsed": false,
     "input": [
      "len(dictionary)"
     ],
     "language": "python",
     "metadata": {},
     "outputs": [
      {
       "metadata": {},
       "output_type": "pyout",
       "prompt_number": 45,
       "text": [
        "92"
       ]
      }
     ],
     "prompt_number": 45
    },
    {
     "cell_type": "code",
     "collapsed": false,
     "input": [
      "#make a corpus of dog phrases only\n",
      "corpusDog=[dictionary.doc2bow(line.decode('ascii','ignore').lower().split()) for line in open('dogs.txt').readlines()[0:20000]]"
     ],
     "language": "python",
     "metadata": {},
     "outputs": [],
     "prompt_number": 46
    },
    {
     "cell_type": "code",
     "collapsed": false,
     "input": [
      "print(len(corpusDog))\n",
      "print(corpusDog)"
     ],
     "language": "python",
     "metadata": {},
     "outputs": [
      {
       "output_type": "stream",
       "stream": "stdout",
       "text": [
        "6\n",
        "[[(8, 1), (26, 1), (44, 1), (58, 1), (59, 1), (60, 1), (61, 1), (62, 1), (63, 1), (64, 1)], [(1, 1), (5, 1), (12, 1), (60, 2), (65, 1), (66, 1), (67, 2), (68, 1), (69, 1), (70, 1), (71, 1), (72, 1), (73, 1), (74, 1), (75, 1), (76, 1)], [(37, 1), (59, 1), (77, 1), (78, 1), (79, 1), (80, 1)], [(81, 1), (82, 1), (83, 1), (84, 1)], [(0, 1), (18, 1), (85, 1), (86, 1), (87, 1)], [(0, 1), (18, 1), (37, 2), (59, 1), (88, 2), (89, 1), (90, 2), (91, 1)]]\n"
       ]
      }
     ],
     "prompt_number": 49
    },
    {
     "cell_type": "code",
     "collapsed": true,
     "input": [
      "#latent semantic index model http://en.wikipedia.org/wiki/Latent_semantic_indexing\n",
      "lsiDog = models.LsiModel(corpusDog, id2word=dictionary,num_topics=1000)\n",
      "lsiDog.print_topics(1000)"
     ],
     "language": "python",
     "metadata": {},
     "outputs": [
      {
       "metadata": {},
       "output_type": "pyout",
       "prompt_number": 60,
       "text": [
        "['0.452*\"i\" + 0.417*\"go\" + 0.208*\"to\" + 0.208*\"heaven\" + 0.208*\"when\" + 0.208*\"there\" + 0.208*\"they\" + 0.208*\"then\" + 0.208*\"no\" + 0.208*\"where\"',\n",
        " '0.501*\"the\" + 0.444*\"average\" + 0.444*\"person\" + 0.309*\"dog\" + 0.256*\"a\" + 0.256*\"is\" + 0.222*\"than\" + 0.222*\"nicer\" + 0.057*\"and\" + 0.057*\"keep\"',\n",
        " '-0.310*\"be\" + -0.310*\"not\" + -0.310*\"my\" + -0.310*\"by\" + -0.310*\"loves\" + -0.310*\"may\" + -0.310*\"me\" + -0.310*\"perfect\" + -0.299*\"dog\" + -0.210*\"i\"',\n",
        " '-0.355*\"walk\" + -0.355*\"and\" + -0.355*\"calm\" + -0.355*\"keep\" + 0.274*\"is\" + 0.274*\"a\" + -0.262*\"the\" + -0.237*\"dog\" + 0.228*\"happiness\" + 0.228*\"puppy\"',\n",
        " '-0.397*\"warm\" + -0.397*\"puppy\" + -0.397*\"happiness\" + -0.280*\"is\" + -0.280*\"a\" + -0.235*\"walk\" + -0.235*\"and\" + -0.235*\"calm\" + -0.235*\"keep\" + 0.234*\"average\"',\n",
        " '-0.500*\"wag\" + -0.500*\"more\" + -0.500*\"less,\" + -0.500*\"bark\" + 0.000*\"happiness\" + 0.000*\"warm\" + 0.000*\"puppy\" + 0.000*\"a\" + 0.000*\"is\" + -0.000*\"person\"']"
       ]
      }
     ],
     "prompt_number": 60
    },
    {
     "cell_type": "code",
     "collapsed": false,
     "input": [
      "corpusCat=[dictionary.doc2bow(line.decode('ascii','ignore').lower().split()) for line in open('cats.txt').readlines()[0:20000]]\n",
      "lsiCat = models.LsiModel(corpusCat, id2word=dictionary,num_topics=1000)\n",
      "lsiCat.print_topics(1000)"
     ],
     "language": "python",
     "metadata": {},
     "outputs": [
      {
       "metadata": {},
       "output_type": "pyout",
       "prompt_number": 52,
       "text": [
        "['0.510*\"to\" + 0.316*\"the\" + 0.286*\"it\" + 0.286*\"as\" + 0.234*\"a\" + 0.207*\"cat\" + 0.183*\"is\" + 0.164*\"with\" + 0.143*\"superior\" + 0.143*\"knows\"',\n",
        " '0.334*\"that\" + 0.334*\"cats\" + 0.201*\"not\" + 0.167*\"will\" + 0.167*\"cause\" + 0.167*\"exact\" + 0.167*\"place\" + 0.167*\"out\" + 0.167*\"most\" + 0.167*\"mathematically\"',\n",
        " '0.384*\"a\" + 0.301*\"cat\" + 0.250*\"not\" + 0.238*\"is\" + -0.211*\"the\" + 0.168*\"never\" + 0.167*\"really\" + 0.167*\"actress\" + 0.167*\"good\" + 0.167*\"just\"',\n",
        " '0.252*\"cat\" + 0.212*\"is\" + -0.204*\"everything\" + -0.204*\"in\" + -0.204*\"are\" + -0.204*\"teach\" + -0.204*\"intended\" + -0.204*\"us\" + -0.204*\"purpose\" + -0.204*\"has\"',\n",
        " '-0.425*\"never\" + -0.255*\"spent\" + -0.255*\"wasted\" + -0.255*\"time\" + 0.232*\"just\" + 0.232*\"good\" + 0.232*\"really\" + 0.232*\"she\\'s\" + 0.232*\"actress\" + 0.232*\"insane,\"',\n",
        " '0.439*\"try\" + 0.439*\"outstubborn\" + -0.305*\"with\" + 0.304*\"to\" + -0.287*\"is\" + -0.281*\"time\" + -0.281*\"spent\" + -0.281*\"wasted\" + 0.158*\"never\" + 0.152*\"cat\"']"
       ]
      }
     ],
     "prompt_number": 52
    },
    {
     "cell_type": "code",
     "collapsed": false,
     "input": [
      "aPhrase=r'''let me be the person my dog thinks I am'''"
     ],
     "language": "python",
     "metadata": {},
     "outputs": [],
     "prompt_number": 56
    },
    {
     "cell_type": "code",
     "collapsed": false,
     "input": [
      "vecPhrase = dictionary.doc2bow(aPhrase.lower().split())\n",
      "veclsiDog= lsiDog[vecPhrase] # convert the query to LSI space"
     ],
     "language": "python",
     "metadata": {},
     "outputs": [],
     "prompt_number": 57
    },
    {
     "cell_type": "code",
     "collapsed": false,
     "input": [
      "from operator import itemgetter\n",
      "sorted(veclsiDog, key=itemgetter(1),reverse=True)"
     ],
     "language": "python",
     "metadata": {},
     "outputs": [
      {
       "metadata": {},
       "output_type": "pyout",
       "prompt_number": 58,
       "text": [
        "[(1, 1.3439910638392967),\n",
        " (0, 0.64408113020523494),\n",
        " (4, 0.22114439319510493),\n",
        " (3, -0.14019545357926885),\n",
        " (2, -1.2689180877211235)]"
       ]
      }
     ],
     "prompt_number": 58
    },
    {
     "cell_type": "code",
     "collapsed": false,
     "input": [
      "veclsiCat= lsiCat[vecPhrase] # convert the query to LSI space\n",
      "sorted(veclsiCat, key=itemgetter(1),reverse=True)"
     ],
     "language": "python",
     "metadata": {},
     "outputs": [
      {
       "metadata": {},
       "output_type": "pyout",
       "prompt_number": 59,
       "text": [
        "[(0, 0.47756128610624737),\n",
        " (4, 0.34151377038310221),\n",
        " (3, 0.19470745296967404),\n",
        " (1, -0.023292724700136415),\n",
        " (5, -0.070387683050306404),\n",
        " (2, -0.078009803158084479)]"
       ]
      }
     ],
     "prompt_number": 59
    },
    {
     "cell_type": "code",
     "collapsed": false,
     "input": [],
     "language": "python",
     "metadata": {},
     "outputs": []
    }
   ],
   "metadata": {}
  }
 ]
}